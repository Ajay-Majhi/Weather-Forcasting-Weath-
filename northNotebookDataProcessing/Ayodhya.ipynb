{
 "cells": [
  {
   "cell_type": "code",
   "execution_count": null,
   "id": "6125c9f1",
   "metadata": {},
   "outputs": [],
   "source": [
    "import numpy as np\n",
    "import pandas as pd\n",
    "import matplotlib.pyplot as plt\n",
    "import seaborn as sns\n",
    "from sklearn import preprocessing\n",
    "import scipy.stats as stats\n",
    "\n"
   ]
  },
  {
   "cell_type": "code",
   "execution_count": null,
   "id": "cbe39708",
   "metadata": {},
   "outputs": [],
   "source": [
    "df = pd.read_csv(\"Ayodhya.csv\")\n",
    "pd.set_option(\"display.max_columns\", None)\n",
    "df"
   ]
  },
  {
   "cell_type": "code",
   "execution_count": null,
   "id": "7d9aeddf",
   "metadata": {},
   "outputs": [],
   "source": [
    "numerical_feature = [\n",
    "    feature for feature in df.columns if df[feature].dtypes != 'O']\n",
    "discrete_feature = [feature for feature in numerical_feature if len(\n",
    "    df[feature].unique()) < 32]\n",
    "continuous_feature = [\n",
    "    feature for feature in numerical_feature if feature not in discrete_feature]\n",
    "categorical_feature = [\n",
    "    feature for feature in df.columns if feature not in numerical_feature]\n",
    "print(\"Numerical Features Count {}\".format(len(numerical_feature)))\n",
    "print(\"Discrete feature Count {}\".format(len(discrete_feature)))\n",
    "print(\"Continuous feature Count {}\".format(len(continuous_feature)))\n",
    "print(\"Categorical feature Count {}\".format(len(categorical_feature)))\n"
   ]
  },
  {
   "cell_type": "code",
   "execution_count": null,
   "id": "391c649c",
   "metadata": {},
   "outputs": [],
   "source": [
    "# Handle Missing Values\n",
    "df.isnull().sum()*100/len(df)\n",
    "\n"
   ]
  },
  {
   "cell_type": "code",
   "execution_count": null,
   "id": "8100d732",
   "metadata": {},
   "outputs": [],
   "source": [
    "print(numerical_feature)\n"
   ]
  },
  {
   "cell_type": "code",
   "execution_count": null,
   "id": "7bf47788",
   "metadata": {},
   "outputs": [],
   "source": [
    "corrmat = df.corr(method = \"spearman\")\n",
    "plt.figure(figsize=(15,15))\n",
    "#plot heat map\n",
    "g=sns.heatmap(corrmat,annot=True)"
   ]
  },
  {
   "cell_type": "code",
   "execution_count": null,
   "id": "8e801434",
   "metadata": {},
   "outputs": [],
   "source": [
    "data=df.copy()"
   ]
  },
  {
   "cell_type": "code",
   "execution_count": null,
   "id": "a1cec90c",
   "metadata": {},
   "outputs": [],
   "source": [
    "sns.relplot(x='T2M', y='RH2M', hue='PRECTOTCORR', data=data)\n",
    "#QV :Humedity\n"
   ]
  },
  {
   "cell_type": "code",
   "execution_count": null,
   "id": "758d871d",
   "metadata": {},
   "outputs": [],
   "source": [
    "sns.relplot(x='T2M',y='WS50M',hue='PRECTOTCORR',data=data)"
   ]
  },
  {
   "cell_type": "code",
   "execution_count": null,
   "id": "3334da68",
   "metadata": {},
   "outputs": [],
   "source": [
    "for feature in continuous_feature:\n",
    "    data = df.copy()\n",
    "    sns.distplot(df[feature])\n",
    "    plt.xlabel(feature)\n",
    "    plt.ylabel(\"Count\")\n",
    "    plt.title(feature)\n",
    "    plt.figure(figsize=(15, 15))\n",
    "    plt.show()\n"
   ]
  },
  {
   "cell_type": "code",
   "execution_count": null,
   "id": "6666ad88",
   "metadata": {},
   "outputs": [],
   "source": [
    "#A for loop is used to plot a boxplot for all the continuous features to see the outliers\n",
    "for feature in continuous_feature:\n",
    "    data=df.copy()\n",
    "    sns.boxplot(data[feature])\n",
    "    plt.title(feature)\n",
    "    plt.figure(figsize=(15,15))"
   ]
  },
  {
   "cell_type": "code",
   "execution_count": null,
   "id": "a280ce4f",
   "metadata": {},
   "outputs": [],
   "source": [
    "d=df.copy()"
   ]
  },
  {
   "cell_type": "code",
   "execution_count": null,
   "id": "0c94e9c1",
   "metadata": {},
   "outputs": [],
   "source": [
    "print(d[\"T2M\"].unique())\n",
    "print(type(df[\"T2M\"].unique()))\n",
    "print(d[\"PRECTOTCORR\"].unique())\n",
    "print(type(df[\"PRECTOTCORR\"].unique()))\n",
    "# print(d[\"WS50M_RANGE\"].unique())\n",
    "print(type(d[\"WS50M\"].unique()))\n"
   ]
  },
  {
   "cell_type": "code",
   "execution_count": null,
   "id": "fa2cdb31",
   "metadata": {},
   "outputs": [],
   "source": [
    "corrmat = d.corr()\n",
    "plt.figure(figsize=(10,10))\n",
    "#plot heat map\n",
    "g=sns.heatmap(corrmat,annot=True)"
   ]
  },
  {
   "cell_type": "code",
   "execution_count": null,
   "id": "03a07d85",
   "metadata": {},
   "outputs": [],
   "source": [
    "def qq_plots(d, variable):\n",
    "    plt.figure(figsize=(15, 10))\n",
    "    plt.subplot(1, 2, 1)\n",
    "    df[variable].hist()\n",
    "    plt.subplot(1, 2, 2)\n",
    "    stats.probplot(df[variable], dist=\"norm\", plot=plt)\n",
    "    plt.show()\n"
   ]
  },
  {
   "cell_type": "code",
   "execution_count": null,
   "id": "2d886b04",
   "metadata": {},
   "outputs": [],
   "source": [
    "for feature in continuous_feature:\n",
    "    print(feature)\n",
    "    plt.figure(figsize=(15, 10))\n",
    "    plt.subplot(1, 2, 1)\n",
    "    df[feature].hist()\n",
    "    plt.subplot(1, 2, 2)\n",
    "    stats.probplot(df[feature], dist=\"norm\", plot=plt)\n",
    "    plt.show()\n"
   ]
  },
  {
   "cell_type": "code",
   "execution_count": null,
   "id": "0cbf47c6",
   "metadata": {},
   "outputs": [],
   "source": [
    "d.PRECTOTCORR.unique()\n"
   ]
  },
  {
   "cell_type": "code",
   "execution_count": null,
   "id": "7b74bb95",
   "metadata": {},
   "outputs": [],
   "source": [
    "d1=d.copy()"
   ]
  },
  {
   "cell_type": "code",
   "execution_count": null,
   "id": "83dc4447",
   "metadata": {},
   "outputs": [],
   "source": [
    "\n",
    "d1=d1.PRECTOTCORR.map({0:1})"
   ]
  },
  {
   "cell_type": "code",
   "execution_count": null,
   "id": "ff3ff324",
   "metadata": {},
   "outputs": [],
   "source": [
    "d2=d1.replace(np.nan, 0)"
   ]
  },
  {
   "cell_type": "code",
   "execution_count": null,
   "id": "1b8bf322",
   "metadata": {},
   "outputs": [],
   "source": [
    "d2.unique()\n"
   ]
  },
  {
   "cell_type": "code",
   "execution_count": null,
   "id": "a598d75f",
   "metadata": {},
   "outputs": [],
   "source": [
    "d3=d['T2M']"
   ]
  },
  {
   "cell_type": "code",
   "execution_count": null,
   "id": "308e7654",
   "metadata": {},
   "outputs": [],
   "source": [
    "d4 = pd.concat([d3, d2], axis=1, join='inner')\n",
    "display(d4)\n"
   ]
  },
  {
   "cell_type": "code",
   "execution_count": null,
   "id": "d433f36a",
   "metadata": {},
   "outputs": [],
   "source": [
    "d5=d['HR'].copy()"
   ]
  },
  {
   "cell_type": "code",
   "execution_count": null,
   "id": "5a14ebce",
   "metadata": {},
   "outputs": [],
   "source": [
    "d6 = pd.concat([d4, d5], axis=1, join='inner')\n",
    "display(d6)\n"
   ]
  },
  {
   "cell_type": "code",
   "execution_count": null,
   "id": "a9f81dbe",
   "metadata": {},
   "outputs": [],
   "source": [
    "d7=d['DY']"
   ]
  },
  {
   "cell_type": "code",
   "execution_count": null,
   "id": "b71ddf19",
   "metadata": {},
   "outputs": [],
   "source": [
    "d8=d['MO']"
   ]
  },
  {
   "cell_type": "code",
   "execution_count": null,
   "id": "f6ec8a8c",
   "metadata": {},
   "outputs": [],
   "source": [
    "d9=d['YEAR']"
   ]
  },
  {
   "cell_type": "code",
   "execution_count": null,
   "id": "99007469",
   "metadata": {},
   "outputs": [],
   "source": [
    "d10 = pd.concat([d6, d7], axis=1, join='inner')\n",
    "display(d10)\n"
   ]
  },
  {
   "cell_type": "code",
   "execution_count": null,
   "id": "875b8db5",
   "metadata": {},
   "outputs": [],
   "source": [
    "d11 = pd.concat([d10, d8], axis=1, join='inner')\n",
    "display(d11)\n"
   ]
  },
  {
   "cell_type": "code",
   "execution_count": null,
   "id": "47dae258",
   "metadata": {},
   "outputs": [],
   "source": [
    "d12 = pd.concat([d11, d9], axis=1, join='inner')\n",
    "display(d12)\n"
   ]
  },
  {
   "cell_type": "code",
   "execution_count": null,
   "id": "023d9296",
   "metadata": {},
   "outputs": [],
   "source": [
    "d12"
   ]
  },
  {
   "cell_type": "code",
   "execution_count": null,
   "id": "c2afe129",
   "metadata": {},
   "outputs": [],
   "source": [
    "d12['PRECTOTCORR'].unique()"
   ]
  },
  {
   "cell_type": "code",
   "execution_count": null,
   "id": "821e8c4e",
   "metadata": {},
   "outputs": [],
   "source": [
    "d13=d['RH2M'].copy()"
   ]
  },
  {
   "cell_type": "code",
   "execution_count": null,
   "id": "7d83c18c",
   "metadata": {},
   "outputs": [],
   "source": [
    "d14=d['WS50M'].copy()"
   ]
  },
  {
   "cell_type": "code",
   "execution_count": null,
   "id": "9c93f65d",
   "metadata": {},
   "outputs": [],
   "source": [
    "d15 = pd.concat([d12, d13], axis=1, join='inner')\n",
    "display(d15)"
   ]
  },
  {
   "cell_type": "code",
   "execution_count": null,
   "id": "dd1b25f5",
   "metadata": {},
   "outputs": [],
   "source": [
    "d16 = pd.concat([d15, d14], axis=1, join='inner')\n",
    "display(d16)"
   ]
  },
  {
   "cell_type": "code",
   "execution_count": null,
   "id": "f3d3ffed",
   "metadata": {},
   "outputs": [],
   "source": [
    "d17=d['WS50M'].copy()"
   ]
  },
  {
   "cell_type": "code",
   "execution_count": null,
   "id": "c6475e99",
   "metadata": {},
   "outputs": [],
   "source": [
    "d18 = pd.concat([d16, d17], axis=1, join='inner')\n",
    "display(d18)"
   ]
  },
  {
   "cell_type": "code",
   "execution_count": null,
   "id": "a765abf1",
   "metadata": {},
   "outputs": [],
   "source": [
    "sns.countplot(d18[\"PRECTOTCORR\"])"
   ]
  },
  {
   "cell_type": "code",
   "execution_count": null,
   "id": "331e5a5b",
   "metadata": {},
   "outputs": [],
   "source": [
    "d18.to_csv(\"Ayodhya-1.csv\")"
   ]
  },
  {
   "cell_type": "code",
   "execution_count": null,
   "id": "4cfc46c3",
   "metadata": {},
   "outputs": [],
   "source": [
    "d18"
   ]
  },
  {
   "cell_type": "code",
   "execution_count": null,
   "id": "e65d6fb0",
   "metadata": {},
   "outputs": [],
   "source": []
  },
  {
   "cell_type": "code",
   "execution_count": null,
   "id": "154f5d07",
   "metadata": {},
   "outputs": [],
   "source": []
  },
  {
   "cell_type": "code",
   "execution_count": null,
   "id": "84dd0a9d",
   "metadata": {},
   "outputs": [],
   "source": []
  }
 ],
 "metadata": {
  "kernelspec": {
   "display_name": "Python 3 (ipykernel)",
   "language": "python",
   "name": "python3"
  },
  "language_info": {
   "codemirror_mode": {
    "name": "ipython",
    "version": 3
   },
   "file_extension": ".py",
   "mimetype": "text/x-python",
   "name": "python",
   "nbconvert_exporter": "python",
   "pygments_lexer": "ipython3",
   "version": "3.9.13"
  },
  "vscode": {
   "interpreter": {
    "hash": "5f13e5f56d1b5f468f9940a9643a3f63ae0fcfaac82f5cfd94069543b4bc2ae2"
   }
  }
 },
 "nbformat": 4,
 "nbformat_minor": 5
}
